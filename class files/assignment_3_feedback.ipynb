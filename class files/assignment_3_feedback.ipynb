{
 "cells": [
  {
   "cell_type": "code",
   "execution_count": 20,
   "metadata": {},
   "outputs": [
    {
     "name": "stdout",
     "output_type": "stream",
     "text": [
      "Break even quantity is: 277.77777777777777\n"
     ]
    }
   ],
   "source": [
    "with open('myInputFile.txt') as f:\n",
    "    content = f.readlines()\n",
    "\n",
    "for line in content:\n",
    "    # using split function (see below for other approaches)\n",
    "    # split function will return 2 strings here\n",
    "    # first string is text unit colon, second one after colon\n",
    "    # so key will be 'salesUnits', etc, and val '500' etc\n",
    "    key,val=line.split(\":\")\n",
    "    # based on key, set the right variable\n",
    "    if (key == \"salesUnits\"):\n",
    "        salesUnit = int(val)    \n",
    "    elif (key == \"priceUnit\"):\n",
    "        priceUnit = int(val)    \n",
    "    elif (key == \"fixedCosts\"):\n",
    "        fixedCosts = int(val)    \n",
    "    elif (key == \"variableCostUnit\"):\n",
    "        variableCostUnit = int(val)\n",
    "\n",
    "# break-even\n",
    "BEQ = fixedCosts / (priceUnit - variableCostUnit)\n",
    "print('Break even quantity is:', BEQ)"
   ]
  },
  {
   "cell_type": "code",
   "execution_count": 21,
   "metadata": {},
   "outputs": [
    {
     "name": "stdout",
     "output_type": "stream",
     "text": [
      "this line has salesUnits\n",
      "salesUnits 500\n"
     ]
    }
   ],
   "source": [
    "# other way to test if a line holds a certain text\n",
    "line = 'salesUnits:500'\n",
    "if (line.startswith('salesUnits:')):\n",
    "    print('this line has salesUnits')\n",
    "    salesUnits = int( line.lstrip('salesUnits:') )\n",
    "    print('salesUnits', salesUnits)\n",
    "elif (line.startswith('fixedCosts:')):\n",
    "    print('this line has fixedCosts')"
   ]
  },
  {
   "cell_type": "code",
   "execution_count": 22,
   "metadata": {},
   "outputs": [
    {
     "name": "stdout",
     "output_type": "stream",
     "text": [
      "this line has salesUnits\n"
     ]
    }
   ],
   "source": [
    "# another way\n",
    "# find function gives position of string, -1 if not found\n",
    "line = 'salesUnits:500'\n",
    "if (line.find('salesUnits') > -1):\n",
    "    print('this line has salesUnits')\n",
    "elif (line.find('fixedCosts') > -1):\n",
    "    print('this line has fixedCosts')"
   ]
  },
  {
   "cell_type": "code",
   "execution_count": 23,
   "metadata": {},
   "outputs": [
    {
     "name": "stdout",
     "output_type": "stream",
     "text": [
      "salesUnits 500\n"
     ]
    }
   ],
   "source": [
    "# remove text and colon, to keep the number\n",
    "salesUnits = int( 'salesUnits:500'.lstrip(\"salesUnit:\") )\n",
    "print('salesUnits', salesUnits)"
   ]
  },
  {
   "cell_type": "code",
   "execution_count": 24,
   "metadata": {},
   "outputs": [
    {
     "data": {
      "text/plain": [
       "10"
      ]
     },
     "execution_count": 24,
     "metadata": {},
     "output_type": "execute_result"
    }
   ],
   "source": [
    "# what position is the colon?\n",
    "'salesUnits:500'.find(\":\")"
   ]
  },
  {
   "cell_type": "code",
   "execution_count": 25,
   "metadata": {},
   "outputs": [
    {
     "name": "stdout",
     "output_type": "stream",
     "text": [
      "salesUnits 500\n"
     ]
    }
   ],
   "source": [
    "# you can get a substring using [ start, end], \n",
    "# or [start : ] (without end implies until end)\n",
    "# so, start at position of colon + 1\n",
    "line = 'salesUnits:500'\n",
    "salesUnits = line[ 'salesUnits:500'.find(\":\") + 1 :  ]\n",
    "print('salesUnits', salesUnits)"
   ]
  },
  {
   "cell_type": "code",
   "execution_count": 26,
   "metadata": {},
   "outputs": [
    {
     "name": "stdout",
     "output_type": "stream",
     "text": [
      "stuff ['salesUnits', '500']\n",
      "el1: salesUnits , el2: 500\n"
     ]
    }
   ],
   "source": [
    "# split function, returns list of elements \n",
    "# the string (line variable) is cut up in multiple pieces using the colon\n",
    "stuff = line.split(':')\n",
    "print ('stuff', stuff)\n",
    "# or, since we know it will return 2 elements we can have two variables \n",
    "#directly assigned the 2 elements\n",
    "el1, el2 = line.split(':')\n",
    "print ('el1:', el1, ', el2:', el2)"
   ]
  },
  {
   "cell_type": "code",
   "execution_count": null,
   "metadata": {
    "collapsed": true
   },
   "outputs": [],
   "source": []
  }
 ],
 "metadata": {
  "kernelspec": {
   "display_name": "Python 3",
   "language": "python",
   "name": "python3"
  },
  "language_info": {
   "codemirror_mode": {
    "name": "ipython",
    "version": 3
   },
   "file_extension": ".py",
   "mimetype": "text/x-python",
   "name": "python",
   "nbconvert_exporter": "python",
   "pygments_lexer": "ipython3",
   "version": "3.6.3"
  }
 },
 "nbformat": 4,
 "nbformat_minor": 2
}
