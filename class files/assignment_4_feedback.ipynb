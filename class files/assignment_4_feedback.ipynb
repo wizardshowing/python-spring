{
 "cells": [
  {
   "cell_type": "code",
   "execution_count": 4,
   "metadata": {},
   "outputs": [
    {
     "name": "stdout",
     "output_type": "stream",
     "text": [
      "this is in my dictionary: {'salesUnits': 500, 'priceUnit': 11, 'fixedCosts': 2500, 'variableCostUnit': 2}\n",
      "keys in my dictionary\n",
      "SALESUNITS\n",
      "PRICEUNIT\n",
      "FIXEDCOSTS\n",
      "VARIABLECOSTUNIT\n"
     ]
    }
   ],
   "source": [
    "with open('myInputFile.txt') as f:\n",
    "    content = f.readlines()\n",
    "\n",
    "# new dictionary\n",
    "myDict = {} \n",
    "\n",
    "for line in content:\n",
    "    # split function will return 2 strings here\n",
    "    # first string is text unit colon, second one after colon\n",
    "    # so key will be 'salesUnits', etc, and val '500' etc\n",
    "    key,val=line.split(\":\")\n",
    "    # add the key-value to the dictionary\n",
    "    myDict[key] = int(val)\n",
    "\n",
    "# print dictionary\n",
    "print('this is in my dictionary:', myDict)\n",
    "\n",
    "# print the dictionary keys in uppercase\n",
    "print('keys in my dictionary:')\n",
    "for k in myDict:\n",
    "    print( k.upper() )"
   ]
  }
 ],
 "metadata": {
  "kernelspec": {
   "display_name": "Python 3",
   "language": "python",
   "name": "python3"
  },
  "language_info": {
   "codemirror_mode": {
    "name": "ipython",
    "version": 3
   },
   "file_extension": ".py",
   "mimetype": "text/x-python",
   "name": "python",
   "nbconvert_exporter": "python",
   "pygments_lexer": "ipython3",
   "version": "3.6.3"
  }
 },
 "nbformat": 4,
 "nbformat_minor": 2
}
