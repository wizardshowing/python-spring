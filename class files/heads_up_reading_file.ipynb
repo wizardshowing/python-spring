{
 "cells": [
  {
   "cell_type": "code",
   "execution_count": 2,
   "metadata": {},
   "outputs": [
    {
     "name": "stdout",
     "output_type": "stream",
     "text": [
      "E:\\git\\python-spring\\class files\n"
     ]
    }
   ],
   "source": [
    "import os\n",
    "cwd = os.getcwd()\n",
    "print(cwd)"
   ]
  },
  {
   "cell_type": "code",
   "execution_count": 6,
   "metadata": {},
   "outputs": [
    {
     "name": "stdout",
     "output_type": "stream",
     "text": [
      "variable content is of type <class 'list'>\n",
      "print content\n",
      "line  1 salesUnits:500\n",
      "\n",
      "line  2 priceUnit:11\n",
      "\n",
      "line  3 fixedCosts:2500\n",
      "\n",
      "line  4 variableCostUnit:2\n",
      "There were 4 lines in the file\n"
     ]
    }
   ],
   "source": [
    "# read the lines of the file into a list\n",
    "with open('myInputFile.txt') as f:\n",
    "    content = f.readlines()\n",
    "\n",
    "print('variable content is of type', type(content))\n",
    "\n",
    "# count variable (will increase it by 1 for each line)\n",
    "count = 0\n",
    "print('print content')\n",
    "for line in content:\n",
    "    # this code runs for each element in the list (content is a list)\n",
    "    count = count + 1\n",
    "    print ('line ', count, line)\n",
    "    # you will need to add code here that processes the line\n",
    "    # that is, taking the value (after the colon) and turning it into a number\n",
    "    # and setting the right variable\n",
    "        \n",
    "# this will run once all elements in content are printed \n",
    "print('There were', count, 'lines in the file')\n",
    "# here you would do the break-even calculation with the variables read from the file\n",
    "# that is, you should have a variable that has the units sold set to 500,\n",
    "# the price per unit being 11 etc "
   ]
  },
  {
   "cell_type": "code",
   "execution_count": 5,
   "metadata": {
    "collapsed": true
   },
   "outputs": [],
   "source": [
    "# if you want to write to a file using python\n",
    "\n",
    "# triple quotes is a multiline string\n",
    "text = '''salesUnits:500\n",
    "priceUnit:11\n",
    "fixedCosts:2500\n",
    "variableCostUnit:2\n",
    "'''\n",
    "\n",
    "with open('somefile.txt', 'a') as f:\n",
    "    f.write(text)\n",
    "    "
   ]
  },
  {
   "cell_type": "code",
   "execution_count": null,
   "metadata": {
    "collapsed": true
   },
   "outputs": [],
   "source": []
  }
 ],
 "metadata": {
  "kernelspec": {
   "display_name": "Python 3",
   "language": "python",
   "name": "python3"
  },
  "language_info": {
   "codemirror_mode": {
    "name": "ipython",
    "version": 3
   },
   "file_extension": ".py",
   "mimetype": "text/x-python",
   "name": "python",
   "nbconvert_exporter": "python",
   "pygments_lexer": "ipython3",
   "version": "3.6.3"
  }
 },
 "nbformat": 4,
 "nbformat_minor": 2
}
