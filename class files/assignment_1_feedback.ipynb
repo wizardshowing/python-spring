{
 "cells": [
  {
   "cell_type": "code",
   "execution_count": 1,
   "metadata": {
    "collapsed": true
   },
   "outputs": [],
   "source": [
    "# function that checks if some input (str) is a number\n",
    "# will return true or false\n",
    "def checkInput(str):\n",
    "    # isdigit function returns True if str contains a number, False otherwise\n",
    "    return str.isdigit()"
   ]
  },
  {
   "cell_type": "code",
   "execution_count": 2,
   "metadata": {
    "collapsed": true
   },
   "outputs": [],
   "source": [
    "# function that gets a user's input (which is a string)\n",
    "# it is going to make sure it is a number\n",
    "# if the input is a number, it will convert to int\n",
    "def getNumberInput():\n",
    "    # create a flag: will be True when valid input has been entered\n",
    "    # set initial value to False\n",
    "    flagDone = False\n",
    "    # keep asking for input as long as flagDone is False\n",
    "    # this will run at least once, because flagDone is set to False\n",
    "    while (flagDone == False):\n",
    "        # ask for input\n",
    "        x = input('hi, please give me an integer: ')\n",
    "        # update flagDone (will become True once a good number is input)\n",
    "        flagDone = checkInput(x)\n",
    "        # use the helper function to see if the input is a number\n",
    "        if checkInput(x) == False:\n",
    "            # print a message            \n",
    "            print('No, that is not an integer.')\n",
    "    # done, now return retValue\n",
    "    return int(x)"
   ]
  },
  {
   "cell_type": "code",
   "execution_count": 3,
   "metadata": {
    "collapsed": true
   },
   "outputs": [],
   "source": [
    "# this function takes a number (int) and returns True if is a prime number\n",
    "# otherwise it returns False\n",
    "def isPrime(number):\n",
    "    if number < 2:\n",
    "        # numbers smaller than 2 not a prime\n",
    "        return False\n",
    "    else:\n",
    "        # see if the number has factors\n",
    "        # repeat for i between 2 and the number\n",
    "        for i in range (2, number):\n",
    "            # the % is modulo (remainder)\n",
    "            # a prime number never has a remainder of 0  \n",
    "            if (number % i ) == 0:\n",
    "                # a remainder of 0 means it is not a prime\n",
    "                return False\n",
    "    # if the program gets to this point it is a prime\n",
    "    # (meaning there were no divisions with 0 remainder) \n",
    "    return True        "
   ]
  },
  {
   "cell_type": "code",
   "execution_count": 5,
   "metadata": {},
   "outputs": [
    {
     "name": "stdout",
     "output_type": "stream",
     "text": [
      "hi, please give me an integer: 12\n"
     ]
    },
    {
     "data": {
      "text/plain": [
       "'12 is not a prime'"
      ]
     },
     "execution_count": 5,
     "metadata": {},
     "output_type": "execute_result"
    }
   ],
   "source": [
    "# get the user to input a number\n",
    "myNumber = getNumberInput()\n",
    "# set myPrime (either True or False)\n",
    "myPrime = isPrime( myNumber )\n",
    "# print the factors\n",
    "print (str(myNumber) +' is a prime number') if myPrime else str(myNumber) +' is not a prime'"
   ]
  },
  {
   "cell_type": "code",
   "execution_count": null,
   "metadata": {
    "collapsed": true
   },
   "outputs": [],
   "source": []
  }
 ],
 "metadata": {
  "kernelspec": {
   "display_name": "Python 3",
   "language": "python",
   "name": "python3"
  },
  "language_info": {
   "codemirror_mode": {
    "name": "ipython",
    "version": 3
   },
   "file_extension": ".py",
   "mimetype": "text/x-python",
   "name": "python",
   "nbconvert_exporter": "python",
   "pygments_lexer": "ipython3",
   "version": "3.6.3"
  }
 },
 "nbformat": 4,
 "nbformat_minor": 2
}
